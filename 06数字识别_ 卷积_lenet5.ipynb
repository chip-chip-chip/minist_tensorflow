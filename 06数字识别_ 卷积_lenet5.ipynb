{
 "cells": [
  {
   "cell_type": "code",
   "execution_count": null,
   "metadata": {},
   "outputs": [],
   "source": [
    "import tensorflow as tf\n",
    "from tensorflow.examples.tutorials.mnist import input_data\n",
    "mnist = input_data.read_data_sets('MNIST_data', one_hot=True)"
   ]
  },
  {
   "cell_type": "code",
   "execution_count": null,
   "metadata": {},
   "outputs": [],
   "source": [
    "#消除以前的图\n",
    "tf.reset_default_graph()"
   ]
  },
  {
   "cell_type": "code",
   "execution_count": 3,
   "metadata": {},
   "outputs": [],
   "source": [
    "# 训练多少批次=训练集的个数//批次的大小\n",
    "batch_size = 128\n",
    "n_batch = mnist.train.num_examples // batch_size\n",
    "\n",
    "max_step = 1000\n",
    "keep_ = 0.8\n",
    "log_dir = \"logs/\"\n",
    "\n",
    "\n",
    "#none代表任何值，随批次的大小变化\n",
    "with tf.name_scope('Input'):\n",
    "    x = tf.placeholder(tf.float32,[None,784],name='input_x')\n",
    "    with tf.name_scope('Input_reshape'):\n",
    "        x_image = tf.reshape(x,[-1,28,28,1],name='x-image')\n",
    "        tf.summary.image('input',x_image,10)\n",
    "    y = tf.placeholder(tf.float32,[None,10],name='input_y')\n",
    "    keep_prob = tf.placeholder(tf.float32,name='keep_prob')"
   ]
  },
  {
   "cell_type": "code",
   "execution_count": 4,
   "metadata": {},
   "outputs": [],
   "source": [
    "# 生成权重\n",
    "def weight_variable(shape):\n",
    "    return tf.Variable(tf.truncated_normal(shape,stddev=0.1),name='W')\n",
    "# 生成偏差\n",
    "def bias_vairable(shape):\n",
    "    return tf.Variable(tf.constant(0.1, shape=shape),name='b')\n",
    "# 记录变量\n",
    "def variable_summaries(var):\n",
    "    with tf.name_scope('summaries'):\n",
    "        mean = tf.reduce_mean(var)\n",
    "        tf.summary.scalar('mean', mean)\n",
    "        with tf.name_scope('stddev'):\n",
    "            stddev = tf.sqrt(tf.reduce_mean(tf.square(var-mean)))\n",
    "        tf.summary.scalar('stddev', stddev)\n",
    "        tf.summary.scalar('max', tf.reduce_max(var))\n",
    "        tf.summary.scalar('min', tf.reduce_min(var))\n",
    "        tf.summary.histogram('histogram', var)\n",
    "\n",
    "#卷积层\n",
    "def conv2d(x,W):\n",
    "    return tf.nn.conv2d(x,W,strides=[1,1,1,1],padding='SAME',name='conv2d')  \n",
    "\n",
    "def conv_layer(input_tensor, weight_shape, layer_name, act=tf.nn.relu):\n",
    "    with tf.name_scope(layer_name):\n",
    "        with tf.name_scope('weights'):\n",
    "            weights = weight_variable(weight_shape)\n",
    "            variable_summaries(weights)\n",
    "        with tf.name_scope('biases'):\n",
    "            biases = bias_vairable([weight_shape[-1]])\n",
    "            variable_summaries(biases)\n",
    "        with tf.name_scope('conv_comput'):\n",
    "            preactivate = conv2d(input_tensor,weights) + biases\n",
    "        with tf.name_scope('activate'):\n",
    "            activations = act(preactivate)\n",
    "        return activations\n",
    "def linear_layer(input_tensor, input_dim, output_dim, layer_name, act=tf.nn.relu):\n",
    "    with tf.name_scope(layer_name):\n",
    "        with tf.name_scope('weights'):\n",
    "            weights = weight_variable([input_dim, output_dim])\n",
    "            variable_summaries(weights)\n",
    "        with tf.name_scope('biases'):\n",
    "            biases = bias_vairable([output_dim])\n",
    "            variable_summaries(biases)\n",
    "        with tf.name_scope('linear_comput'):\n",
    "            preactivate = tf.matmul(input_tensor,weights) + biases\n",
    "        with tf.name_scope('activate'):\n",
    "            activations = act(preactivate)\n",
    "        return activations\n",
    "\n",
    "#池化层\n",
    "def max_pool_2x2(x):\n",
    "    return tf.nn.max_pool(x,ksize=[1,2,2,1],strides=[1,2,2,1],padding='SAME',name='Max_pool')"
   ]
  },
  {
   "cell_type": "code",
   "execution_count": 5,
   "metadata": {},
   "outputs": [
    {
     "name": "stdout",
     "output_type": "stream",
     "text": [
      "WARNING:tensorflow:From E:\\Anaconda\\lib\\site-packages\\tensorflow\\python\\framework\\op_def_library.py:263: colocate_with (from tensorflow.python.framework.ops) is deprecated and will be removed in a future version.\n",
      "Instructions for updating:\n",
      "Colocations handled automatically by placer.\n",
      "WARNING:tensorflow:From <ipython-input-5-8a2c65ef1c00>:21: calling dropout (from tensorflow.python.ops.nn_ops) with keep_prob is deprecated and will be removed in a future version.\n",
      "Instructions for updating:\n",
      "Please use `rate` instead of `keep_prob`. Rate should be set to `rate = 1 - keep_prob`.\n"
     ]
    }
   ],
   "source": [
    "#模型的创建\n",
    "# 第一次卷积   28*28*1->28*28*32\n",
    "conv_layer1 = conv_layer(x_image,[5,5,1,32],'conv_layer1')\n",
    "\n",
    "# 池化之后变为 14*14*32\n",
    "with tf.name_scope('Max_pool1'):\n",
    "    h_pool1 = max_pool_2x2(conv_layer1)\n",
    "\n",
    "# 第二次卷积 14*14*32->14*14*64\n",
    "conv_layer2 = conv_layer(h_pool1,[5,5,32,64],'conv_layer2')\n",
    "# 第二次池化之后变为 7*7*64\n",
    "with tf.name_scope('Max_pool2'):\n",
    "    h_pool2 = max_pool_2x2(conv_layer2)\n",
    "\n",
    "with tf.name_scope('Flatten'):\n",
    "    flatten_ = tf.reshape(h_pool2,[-1,7*7*64])\n",
    "    \n",
    "# 第一个全连接层 7*7*64 - 1024\n",
    "fc1 = linear_layer(flatten_, 7*7*64, 1024, 'FC1')\n",
    "\n",
    "with tf.name_scope('Dropput'):\n",
    "    fc1_drop = tf.nn.dropout(fc1, keep_prob)\n",
    "    \n",
    "# 第二个全连接层 1024 - 10\n",
    "logits = linear_layer(fc1_drop, 1024, 10, 'FC2',act=tf.nn.sigmoid)"
   ]
  },
  {
   "cell_type": "code",
   "execution_count": 6,
   "metadata": {},
   "outputs": [
    {
     "name": "stdout",
     "output_type": "stream",
     "text": [
      "WARNING:tensorflow:From <ipython-input-6-4d7c2ad36a3b>:3: softmax_cross_entropy_with_logits (from tensorflow.python.ops.nn_ops) is deprecated and will be removed in a future version.\n",
      "Instructions for updating:\n",
      "\n",
      "Future major versions of TensorFlow will allow gradients to flow\n",
      "into the labels input on backprop by default.\n",
      "\n",
      "See `tf.nn.softmax_cross_entropy_with_logits_v2`.\n",
      "\n"
     ]
    }
   ],
   "source": [
    "#训练模型\n",
    "with tf.name_scope('loss'):\n",
    "    loss = tf.reduce_mean(tf.nn.softmax_cross_entropy_with_logits(labels=y, logits=logits))\n",
    "    tf.summary.scalar('loss',loss)\n",
    "with tf.name_scope('train'):\n",
    "    train_step = tf.train.AdamOptimizer(0.001).minimize(loss)\n",
    "\n",
    "with tf.name_scope('accuracy'):\n",
    "    prediction = tf.nn.softmax(logits)\n",
    "    correct_prediction = tf.equal(tf.argmax(prediction,1), tf.argmax(y,1))\n",
    "    accuracy = tf.reduce_mean(tf.cast(correct_prediction,tf.float32))\n",
    "    tf.summary.scalar('accuracy', accuracy)\n",
    "    \n",
    "merged = tf.summary.merge_all()"
   ]
  },
  {
   "cell_type": "code",
   "execution_count": 7,
   "metadata": {},
   "outputs": [],
   "source": [
    "def get_dict(train):\n",
    "    if train:\n",
    "        xs, ys = mnist.train.next_batch(batch_size)\n",
    "        k = keep_\n",
    "    else:\n",
    "        xs, ys = mnist.test.images, mnist.test.labels\n",
    "        k = 1.0\n",
    "    return {x:xs, y:ys, keep_prob: k}"
   ]
  },
  {
   "cell_type": "code",
   "execution_count": null,
   "metadata": {},
   "outputs": [
    {
     "name": "stdout",
     "output_type": "stream",
     "text": [
      "Step: 0, acc: 0.1032\n",
      "Step: 10, acc: 0.1072\n",
      "Step: 20, acc: 0.1868\n"
     ]
    }
   ],
   "source": [
    "saver=tf.train.Saver()\n",
    "#创建会话\n",
    "with tf.Session() as sess:\n",
    "    train_writer = tf.summary.FileWriter(log_dir + '/train', sess.graph)\n",
    "    test_writer = tf.summary.FileWriter(log_dir + '/test')\n",
    "    \n",
    "    sess.run(tf.global_variables_initializer())\n",
    "    \n",
    "    for i in range(max_step):\n",
    "        if i%10 == 0:\n",
    "            summary,acc = sess.run([merged,accuracy], feed_dict=get_dict(False))\n",
    "            test_writer.add_summary(summary, i)\n",
    "            print(\"Step: \" + str(i) + \", acc: \" + str(acc))\n",
    "        else:\n",
    "            summary,_ = sess.run([merged,train_step], feed_dict=get_dict(True))\n",
    "            train_writer.add_summary(summary,i)\n",
    "    saver.save(sess,'lenet/lenet.ckpt')\n",
    "    \n",
    "writer = tf.summary.FileWriter('logs/',sess.graph)"
   ]
  },
  {
   "cell_type": "code",
   "execution_count": null,
   "metadata": {
    "collapsed": true
   },
   "outputs": [],
   "source": []
  }
 ],
 "metadata": {
  "kernelspec": {
   "display_name": "Python 3",
   "language": "python",
   "name": "python3"
  },
  "language_info": {
   "codemirror_mode": {
    "name": "ipython",
    "version": 3
   },
   "file_extension": ".py",
   "mimetype": "text/x-python",
   "name": "python",
   "nbconvert_exporter": "python",
   "pygments_lexer": "ipython3",
   "version": "3.7.3"
  },
  "toc": {
   "base_numbering": 1,
   "nav_menu": {},
   "number_sections": true,
   "sideBar": true,
   "skip_h1_title": false,
   "title_cell": "Table of Contents",
   "title_sidebar": "Contents",
   "toc_cell": false,
   "toc_position": {},
   "toc_section_display": true,
   "toc_window_display": false
  }
 },
 "nbformat": 4,
 "nbformat_minor": 2
}
